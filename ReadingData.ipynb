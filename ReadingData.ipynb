{
 "cells": [
  {
   "cell_type": "markdown",
   "id": "36f56388-bb61-4393-a6f2-ec42e4ea133c",
   "metadata": {},
   "source": [
    "# Reading Data"
   ]
  },
  {
   "cell_type": "code",
   "execution_count": 23,
   "id": "292fa331-3f56-41f6-a030-f758a3520e32",
   "metadata": {},
   "outputs": [],
   "source": [
    "import pandas as pd"
   ]
  },
  {
   "cell_type": "code",
   "execution_count": 27,
   "id": "7b8d4261-8f2a-4228-866f-0cd68e3d0276",
   "metadata": {},
   "outputs": [
    {
     "name": "stdout",
     "output_type": "stream",
     "text": [
      "/Users/aratainamura\n"
     ]
    }
   ],
   "source": [
    "!pwd"
   ]
  },
  {
   "cell_type": "code",
   "execution_count": 31,
   "id": "adede825-7013-4fe6-a12f-2dc37240c8ae",
   "metadata": {},
   "outputs": [],
   "source": [
    "data_oceania = pd.read_csv('/Users/aratainamura/Desktop/data/gapminder_gdp_oceania.csv')"
   ]
  },
  {
   "cell_type": "code",
   "execution_count": 32,
   "id": "bded3d37-4a70-4d3e-a88a-35399901c8d2",
   "metadata": {},
   "outputs": [
    {
     "name": "stdout",
     "output_type": "stream",
     "text": [
      "       country         1952         1957         1962         1967  \\\n",
      "0    Australia  10039.59564  10949.64959  12217.22686  14526.12465   \n",
      "1  New Zealand  10556.57566  12247.39532  13175.67800  14463.91893   \n",
      "\n",
      "          1972         1977         1982         1987         1992  \\\n",
      "0  16788.62948  18334.19751  19477.00928  21888.88903  23424.76683   \n",
      "1  16046.03728  16233.71770  17632.41040  19007.19129  18363.32494   \n",
      "\n",
      "          1997         2002         2007  \n",
      "0  26997.93657  30687.75473  34435.36744  \n",
      "1  21050.41377  23189.80135  25185.00911  \n"
     ]
    }
   ],
   "source": [
    "print(data_oceania)"
   ]
  },
  {
   "cell_type": "code",
   "execution_count": 33,
   "id": "2fa9fa81-de47-4389-8076-86a84828ffce",
   "metadata": {},
   "outputs": [
    {
     "name": "stdout",
     "output_type": "stream",
     "text": [
      "<class 'pandas.core.frame.DataFrame'>\n",
      "RangeIndex: 2 entries, 0 to 1\n",
      "Data columns (total 13 columns):\n",
      " #   Column   Non-Null Count  Dtype  \n",
      "---  ------   --------------  -----  \n",
      " 0   country  2 non-null      object \n",
      " 1   1952     2 non-null      float64\n",
      " 2   1957     2 non-null      float64\n",
      " 3   1962     2 non-null      float64\n",
      " 4   1967     2 non-null      float64\n",
      " 5   1972     2 non-null      float64\n",
      " 6   1977     2 non-null      float64\n",
      " 7   1982     2 non-null      float64\n",
      " 8   1987     2 non-null      float64\n",
      " 9   1992     2 non-null      float64\n",
      " 10  1997     2 non-null      float64\n",
      " 11  2002     2 non-null      float64\n",
      " 12  2007     2 non-null      float64\n",
      "dtypes: float64(12), object(1)\n",
      "memory usage: 336.0+ bytes\n"
     ]
    }
   ],
   "source": [
    "data_oceania.info()"
   ]
  },
  {
   "cell_type": "code",
   "execution_count": 34,
   "id": "48ccc945-ff82-4b1d-9a3a-d6cc61413ebd",
   "metadata": {},
   "outputs": [
    {
     "name": "stdout",
     "output_type": "stream",
     "text": [
      "Index(['country', '1952', '1957', '1962', '1967', '1972', '1977', '1982',\n",
      "       '1987', '1992', '1997', '2002', '2007'],\n",
      "      dtype='object')\n"
     ]
    }
   ],
   "source": [
    "print(data_oceania.columns)"
   ]
  },
  {
   "cell_type": "code",
   "execution_count": 35,
   "id": "86f4a280-ad71-4f99-9375-c7ab51ac2e22",
   "metadata": {},
   "outputs": [
    {
     "name": "stdout",
     "output_type": "stream",
     "text": [
      "                   0            1\n",
      "country    Australia  New Zealand\n",
      "1952     10039.59564  10556.57566\n",
      "1957     10949.64959  12247.39532\n",
      "1962     12217.22686    13175.678\n",
      "1967     14526.12465  14463.91893\n",
      "1972     16788.62948  16046.03728\n",
      "1977     18334.19751   16233.7177\n",
      "1982     19477.00928   17632.4104\n",
      "1987     21888.88903  19007.19129\n",
      "1992     23424.76683  18363.32494\n",
      "1997     26997.93657  21050.41377\n",
      "2002     30687.75473  23189.80135\n",
      "2007     34435.36744  25185.00911\n"
     ]
    }
   ],
   "source": [
    "print(data_oceania.T)"
   ]
  },
  {
   "cell_type": "code",
   "execution_count": 36,
   "id": "011e8925-e5c7-4306-88f9-7524fefbf6cf",
   "metadata": {},
   "outputs": [],
   "source": [
    "transposed_data_oceania = data_oceania.T"
   ]
  },
  {
   "cell_type": "code",
   "execution_count": 37,
   "id": "9eb908f8-b9c9-4ebf-925f-14395e786049",
   "metadata": {},
   "outputs": [
    {
     "data": {
      "text/plain": [
       "<bound method DataFrame.info of                    0            1\n",
       "country    Australia  New Zealand\n",
       "1952     10039.59564  10556.57566\n",
       "1957     10949.64959  12247.39532\n",
       "1962     12217.22686    13175.678\n",
       "1967     14526.12465  14463.91893\n",
       "1972     16788.62948  16046.03728\n",
       "1977     18334.19751   16233.7177\n",
       "1982     19477.00928   17632.4104\n",
       "1987     21888.88903  19007.19129\n",
       "1992     23424.76683  18363.32494\n",
       "1997     26997.93657  21050.41377\n",
       "2002     30687.75473  23189.80135\n",
       "2007     34435.36744  25185.00911>"
      ]
     },
     "execution_count": 37,
     "metadata": {},
     "output_type": "execute_result"
    }
   ],
   "source": [
    "transposed_data_oceania.info"
   ]
  },
  {
   "cell_type": "code",
   "execution_count": 40,
   "id": "25ed2bc0-35b7-4421-82d8-cf9616cddd71",
   "metadata": {},
   "outputs": [],
   "source": [
    "data_europe = pd.read_csv('/Users/aratainamura/Desktop/data/gapminder_gdp_europe.csv', index_col = 'country')"
   ]
  },
  {
   "cell_type": "code",
   "execution_count": 43,
   "id": "e7cc22c8-7f36-4530-8f1f-c532ce9e241f",
   "metadata": {},
   "outputs": [
    {
     "name": "stdout",
     "output_type": "stream",
     "text": [
      "1601.056136\n"
     ]
    }
   ],
   "source": [
    "print(data_europe.loc['Albania', '1952'])"
   ]
  },
  {
   "cell_type": "code",
   "execution_count": 44,
   "id": "27aa0da0-4fe5-432d-8fc4-5b0bb4571232",
   "metadata": {},
   "outputs": [
    {
     "name": "stdout",
     "output_type": "stream",
     "text": [
      "(30, 12)\n"
     ]
    }
   ],
   "source": [
    "print(data_europe.shape)"
   ]
  },
  {
   "cell_type": "code",
   "execution_count": 45,
   "id": "a1ef63cf-652d-4567-bfde-23cbccbbdb46",
   "metadata": {},
   "outputs": [
    {
     "name": "stdout",
     "output_type": "stream",
     "text": [
      "first value in df: 1601.056136\n"
     ]
    }
   ],
   "source": [
    "print('first value in df:', data_europe.iloc[0,0])"
   ]
  },
  {
   "cell_type": "code",
   "execution_count": 47,
   "id": "bbf59dc3-895f-4812-8517-a962903e724d",
   "metadata": {},
   "outputs": [
    {
     "name": "stdout",
     "output_type": "stream",
     "text": [
      "find middle value: 11150.98113\n"
     ]
    }
   ],
   "source": [
    "print('find middle value:', data_europe.iloc[14,5])"
   ]
  },
  {
   "cell_type": "code",
   "execution_count": 48,
   "id": "ee00daa0-0d5a-4e21-9f75-71fc5fda5c45",
   "metadata": {},
   "outputs": [
    {
     "name": "stdout",
     "output_type": "stream",
     "text": [
      "                               1957          1962          1967          1972  \\\n",
      "country                                                                         \n",
      "Belgium                 9714.960623  10991.206760  13149.041190  16672.143560   \n",
      "Bosnia and Herzegovina  1353.989176   1709.683679   2172.352423   2860.169750   \n",
      "Bulgaria                3008.670727   4254.337839   5577.002800   6597.494398   \n",
      "\n",
      "                                1977          1982          1987  \n",
      "country                                                           \n",
      "Belgium                 19117.974480  20979.845890  22525.563080  \n",
      "Bosnia and Herzegovina   3528.481305   4126.613157   4314.114757  \n",
      "Bulgaria                 7612.240438   8224.191647   8239.854824  \n"
     ]
    }
   ],
   "source": [
    "print(data_europe.loc['Belgium':'Bulgaria','1957':'1987'])"
   ]
  },
  {
   "cell_type": "code",
   "execution_count": 49,
   "id": "482504a3-7aaf-4cd4-8129-339ff7354a37",
   "metadata": {},
   "outputs": [
    {
     "name": "stdout",
     "output_type": "stream",
     "text": [
      "All countries before (and including) Belgium for years 1957-1967\n"
     ]
    }
   ],
   "source": [
    "print(\"All countries before (and including) Belgium for years 1957-1967\")"
   ]
  },
  {
   "cell_type": "code",
   "execution_count": 50,
   "id": "32bd25ff-c280-43f3-8777-5754559c2e31",
   "metadata": {},
   "outputs": [
    {
     "name": "stdout",
     "output_type": "stream",
     "text": [
      "                1957          1962          1967\n",
      "country                                         \n",
      "Albania  1942.284244   2312.888958   2760.196931\n",
      "Austria  8842.598030  10750.721110  12834.602400\n",
      "Belgium  9714.960623  10991.206760  13149.041190\n"
     ]
    }
   ],
   "source": [
    "print(data_europe.loc[:'Belgium','1957':'1967'])"
   ]
  },
  {
   "cell_type": "code",
   "execution_count": 51,
   "id": "10bee7d6-9c3a-4c02-a206-4c78ca181ae1",
   "metadata": {},
   "outputs": [
    {
     "name": "stdout",
     "output_type": "stream",
     "text": [
      "All countries from the year 2002 onwards\n"
     ]
    }
   ],
   "source": [
    "print(\"All countries from the year 2002 onwards\")"
   ]
  },
  {
   "cell_type": "code",
   "execution_count": 53,
   "id": "f6f8121d-aa2c-40c7-aaf8-33f2f1756092",
   "metadata": {},
   "outputs": [
    {
     "name": "stdout",
     "output_type": "stream",
     "text": [
      "                                2002          2007\n",
      "country                                           \n",
      "Albania                  4604.211737   5937.029526\n",
      "Austria                 32417.607690  36126.492700\n",
      "Belgium                 30485.883750  33692.605080\n",
      "Bosnia and Herzegovina   6018.975239   7446.298803\n",
      "Bulgaria                 7696.777725  10680.792820\n",
      "Croatia                 11628.388950  14619.222720\n",
      "Czech Republic          17596.210220  22833.308510\n",
      "Denmark                 32166.500060  35278.418740\n",
      "Finland                 28204.590570  33207.084400\n",
      "France                  28926.032340  30470.016700\n",
      "Germany                 30035.801980  32170.374420\n",
      "Greece                  22514.254800  27538.411880\n",
      "Hungary                 14843.935560  18008.944440\n",
      "Iceland                 31163.201960  36180.789190\n",
      "Ireland                 34077.049390  40675.996350\n",
      "Italy                   27968.098170  28569.719700\n",
      "Montenegro               6557.194282   9253.896111\n",
      "Netherlands             33724.757780  36797.933320\n",
      "Norway                  44683.975250  49357.190170\n",
      "Poland                  12002.239080  15389.924680\n",
      "Portugal                19970.907870  20509.647770\n",
      "Romania                  7885.360081  10808.475610\n",
      "Serbia                   7236.075251   9786.534714\n",
      "Slovak Republic         13638.778370  18678.314350\n",
      "Slovenia                20660.019360  25768.257590\n",
      "Spain                   24835.471660  28821.063700\n",
      "Sweden                  29341.630930  33859.748350\n",
      "Switzerland             34480.957710  37506.419070\n",
      "Turkey                   6508.085718   8458.276384\n",
      "United Kingdom          29478.999190  33203.261280\n"
     ]
    }
   ],
   "source": [
    "print(data_europe.loc[:, '2002':])"
   ]
  },
  {
   "cell_type": "code",
   "execution_count": 54,
   "id": "ee05d6ee-c278-4d7d-b246-c04cd27a0c26",
   "metadata": {},
   "outputs": [
    {
     "name": "stdout",
     "output_type": "stream",
     "text": [
      "1952     4931.404155\n",
      "1957     6248.656232\n",
      "1962     8243.582340\n",
      "1967    10022.401310\n",
      "1972    12269.273780\n",
      "1977    14255.984750\n",
      "1982    16537.483500\n",
      "1987    19207.234820\n",
      "1992    22013.644860\n",
      "1997    24675.024460\n",
      "2002    27968.098170\n",
      "2007    28569.719700\n",
      "Name: Italy, dtype: float64\n"
     ]
    }
   ],
   "source": [
    "print(data_europe.loc['Italy', :])"
   ]
  },
  {
   "cell_type": "code",
   "execution_count": 55,
   "id": "a50fb3c8-2a24-4a4e-ad00-f8f1f1e7c6f6",
   "metadata": {},
   "outputs": [
    {
     "name": "stdout",
     "output_type": "stream",
     "text": [
      "country\n",
      "Albania                    3630.880722\n",
      "Austria                   21597.083620\n",
      "Belgium                   20979.845890\n",
      "Bosnia and Herzegovina     4126.613157\n",
      "Bulgaria                   8224.191647\n",
      "Croatia                   13221.821840\n",
      "Czech Republic            15377.228550\n",
      "Denmark                   21688.040480\n",
      "Finland                   18533.157610\n",
      "France                    20293.897460\n",
      "Germany                   22031.532740\n",
      "Greece                    15268.420890\n",
      "Hungary                   12545.990660\n",
      "Iceland                   23269.607500\n",
      "Ireland                   12618.321410\n",
      "Italy                     16537.483500\n",
      "Montenegro                11222.587620\n",
      "Netherlands               21399.460460\n",
      "Norway                    26298.635310\n",
      "Poland                     8451.531004\n",
      "Portugal                  11753.842910\n",
      "Romania                    9605.314053\n",
      "Serbia                    15181.092700\n",
      "Slovak Republic           11348.545850\n",
      "Slovenia                  17866.721750\n",
      "Spain                     13926.169970\n",
      "Sweden                    20667.381250\n",
      "Switzerland               28397.715120\n",
      "Turkey                     4241.356344\n",
      "United Kingdom            18232.424520\n",
      "Name: 1982, dtype: float64\n"
     ]
    }
   ],
   "source": [
    "print(data_europe.loc[:,'1982'])"
   ]
  },
  {
   "cell_type": "code",
   "execution_count": 56,
   "id": "3600e30f-8c60-4991-8f27-0f54471da68a",
   "metadata": {},
   "outputs": [
    {
     "name": "stdout",
     "output_type": "stream",
     "text": [
      "first four countries, first 3 years;                                1952         1957          1962\n",
      "country                                                       \n",
      "Albania                 1601.056136  1942.284244   2312.888958\n",
      "Austria                 6137.076492  8842.598030  10750.721110\n",
      "Belgium                 8343.105127  9714.960623  10991.206760\n",
      "Bosnia and Herzegovina   973.533195  1353.989176   1709.683679\n"
     ]
    }
   ],
   "source": [
    "print('first four countries, first 3 years;', data_europe.iloc[0:4,0:3])"
   ]
  },
  {
   "cell_type": "code",
   "execution_count": 57,
   "id": "a9caf417-8837-4a16-95d4-75e72eced2c7",
   "metadata": {},
   "outputs": [
    {
     "name": "stdout",
     "output_type": "stream",
     "text": [
      "                1952         1957\n",
      "country                          \n",
      "Albania  1601.056136  1942.284244\n",
      "Austria  6137.076492  8842.598030\n"
     ]
    }
   ],
   "source": [
    "print(data_europe.iloc[0:2, 0:2])"
   ]
  },
  {
   "cell_type": "code",
   "execution_count": 59,
   "id": "2d7cc837-ae88-498a-b7fb-b9e218196fa1",
   "metadata": {},
   "outputs": [
    {
     "name": "stdout",
     "output_type": "stream",
     "text": [
      "                1952         1957          1962\n",
      "country                                        \n",
      "Albania  1601.056136  1942.284244   2312.888958\n",
      "Austria  6137.076492  8842.598030  10750.721110\n",
      "Belgium  8343.105127  9714.960623  10991.206760\n"
     ]
    }
   ],
   "source": [
    "print(data_europe.loc['Albania':'Belgium', '1952':'1962'])"
   ]
  },
  {
   "cell_type": "code",
   "execution_count": 61,
   "id": "da54ce50-627a-47ef-af33-0d61b4c348a0",
   "metadata": {},
   "outputs": [],
   "source": [
    "data_america = pd.read_csv('/Users/aratainamura/Desktop/data/gapminder_gdp_americas.csv')"
   ]
  },
  {
   "cell_type": "code",
   "execution_count": 62,
   "id": "900793f6-9631-487b-b02c-9582aecd9d0d",
   "metadata": {},
   "outputs": [
    {
     "name": "stdout",
     "output_type": "stream",
     "text": [
      "(25, 13)\n"
     ]
    }
   ],
   "source": [
    "print(data_america.shape)"
   ]
  },
  {
   "cell_type": "code",
   "execution_count": 63,
   "id": "ecd46ed8-07d4-40c5-add5-1863edcd8702",
   "metadata": {},
   "outputs": [
    {
     "name": "stdout",
     "output_type": "stream",
     "text": [
      "                country          1952          1957          1962  \\\n",
      "0             Argentina   3758.523437   4245.256698   4957.037982   \n",
      "1               Bolivia   3112.363948  61729.977564  62612.716475   \n",
      "2                Brazil  52526.828538  52271.715538   2492.351109   \n",
      "3                Canada  80721.137366   2127.686326  72081.241665   \n",
      "4                 Chile   7689.799761   9802.466526   8422.974165   \n",
      "5              Colombia   2194.926204   2220.487682   2291.156835   \n",
      "6            Costa Rica   2480.380334   2961.800905  52557.508254   \n",
      "7                  Cuba   3478.125529  53439.098778   4581.609385   \n",
      "8    Dominican Republic   3522.110717   3780.546651   6766.936778   \n",
      "9               Ecuador  58463.737172   4315.622723   4519.094331   \n",
      "10          El Salvador  53800.299705   2487.365989   3336.585802   \n",
      "11            Guatemala  81010.076599  83776.637546   7133.166023   \n",
      "12                Haiti  13990.482080  14847.127120  16173.145860   \n",
      "13             Honduras   1397.717137   1544.402995   1662.137359   \n",
      "14              Jamaica   1952.308701   2046.154706  74736.768154   \n",
      "15               Mexico  90971.848359  12489.950060  13462.485550   \n",
      "16            Nicaragua   5586.538780  61831.146340   5180.755910   \n",
      "17               Panama   3023.271928   4100.393400   4997.523971   \n",
      "18             Paraguay   3081.959785  46346.460607   5108.344630   \n",
      "19                 Peru   1840.366939   1726.887882  59867.581838   \n",
      "20          Puerto Rico  11305.358687   2990.010802   3460.937025   \n",
      "21  Trinidad and Tobago   2898.530881  56729.351007   5246.107524   \n",
      "22        United States   2428.237769   2617.155967  68971.672032   \n",
      "23              Uruguay   5716.766744   6150.772969   5603.357717   \n",
      "24            Venezuela   3048.302900   3421.523218   3776.803627   \n",
      "\n",
      "            1967          1972          1977          1982          1987  \\\n",
      "0   77446.825850   5937.827283   6281.290855   6434.501797   6360.943444   \n",
      "1    4643.393534   4688.593267   5486.371089   3470.338156  48502.998326   \n",
      "2    2678.729839  59550.767795   3815.807870  44440.084992   7076.478233   \n",
      "3    2586.886053   2980.331339   3548.097832  56094.065164  43992.204121   \n",
      "4    9541.474188  10505.259660  13143.950950  11152.410110   9883.584648   \n",
      "5    2538.269358  57893.227021  56796.398209  59909.319485   3023.096699   \n",
      "6    4421.009084   5364.249663   5351.912144   7009.601598   7034.779161   \n",
      "7    5754.733883   6809.406690   7674.929108   9611.147541  49926.668634   \n",
      "8   63315.740215   5280.994710   6679.623260  60151.345979  55701.937230   \n",
      "9   60524.710025  53739.259655  49291.950011   5095.665738   5547.063754   \n",
      "10  68574.166648   4985.711467   6660.118654   7030.835878  49045.608449   \n",
      "11   8052.953021   9443.038526  59485.248903   8997.897412   9139.671389   \n",
      "12  19530.365570  21806.035940  24072.632130  25009.559140  29884.350410   \n",
      "13   1653.723003   2189.874499   2681.988900   2861.092386   2899.842175   \n",
      "14   2299.376311  57886.722653  44313.285239   4258.503604   3998.875695   \n",
      "15  16076.588030  62829.875603  22090.883060  22898.792140  26626.515030   \n",
      "16   5690.268015   5305.445256   6380.494966  54476.998899   7532.924763   \n",
      "17  56085.264613   6619.551419  51214.598297   9119.528607  47020.415157   \n",
      "18   6929.277714   9123.041742   9770.524921  72797.303710  12281.341910   \n",
      "19   1452.057666   1654.456946  41624.380102   2011.159549   1823.015995   \n",
      "20   4161.727834   5118.146939   5926.876967   5262.734751   5629.915318   \n",
      "21   6124.703451  61039.706202  51185.381748   6068.051350   6351.237495   \n",
      "22  60114.541083   4031.408271   4879.992748   4820.494790   4246.485974   \n",
      "23   5444.619620   5703.408898   6504.339663   6920.223051  52329.603891   \n",
      "24   4358.595393  29513.658556   5138.922374   4098.344175   4140.442097   \n",
      "\n",
      "            1992          1997          2002          2007  \n",
      "0    4446.380924   5838.347657  53731.890130  38648.379084  \n",
      "1    2170.151724   2253.023004   2474.548819   2749.320965  \n",
      "2    5444.648617   6117.361746  45726.614039   7006.580419  \n",
      "3   44472.344119  47416.219133   3413.262690   3822.137084  \n",
      "4   10733.926310  10165.495180   8605.047831  51580.843077  \n",
      "5    3081.694603   3160.454906   3099.728660   3548.330846  \n",
      "6    6618.743050  44149.356043   7356.031934   9809.185636  \n",
      "7   22717.392095  29732.575803  10742.440530  11977.574960  \n",
      "8    7103.702595   7429.455877   5773.044512  36757.420700  \n",
      "9    7596.125964  10118.053180  10778.783850  13171.638850  \n",
      "10   6950.283021   7957.980824   8131.212843   9065.800825  \n",
      "11   9308.418710  10967.281950   8797.640716  12779.379640  \n",
      "12  32003.932240  35767.433030  39097.099550  42951.653090  \n",
      "13   3044.214214  40649.765076   4563.808154   6025.374752  \n",
      "14  45138.416539   4247.400261  40469.711547   4172.838464  \n",
      "15  26342.884260  72356.094396  50351.280073  36319.235010  \n",
      "16   5592.843963   5431.990415   6340.646683  52202.758570  \n",
      "17  47221.209580   8792.573126  11460.600230  54286.607525  \n",
      "18  62847.496765  16999.433300  18855.606180  19328.709010  \n",
      "19  56803.835417  52780.148864  38989.811737   1201.637154  \n",
      "20  65935.744289  51478.251513   7723.447195  53747.847570  \n",
      "21   7404.923685   7121.924704   6994.774861   7320.880262  \n",
      "22   4439.450840   4684.313807  48053.197869   5186.050003  \n",
      "23   8137.004775   9230.240708   7727.002004  10611.462990  \n",
      "24   4444.231700   5154.825496  50742.767364   5728.353514  \n"
     ]
    }
   ],
   "source": [
    "print(data_america)"
   ]
  },
  {
   "cell_type": "code",
   "execution_count": 64,
   "id": "aa308773-ab56-46f0-b7ae-ca53b8e342de",
   "metadata": {},
   "outputs": [
    {
     "name": "stdout",
     "output_type": "stream",
     "text": [
      "<class 'pandas.core.frame.DataFrame'>\n",
      "RangeIndex: 25 entries, 0 to 24\n",
      "Data columns (total 13 columns):\n",
      " #   Column   Non-Null Count  Dtype  \n",
      "---  ------   --------------  -----  \n",
      " 0   country  25 non-null     object \n",
      " 1   1952     25 non-null     float64\n",
      " 2   1957     25 non-null     float64\n",
      " 3   1962     25 non-null     float64\n",
      " 4   1967     25 non-null     float64\n",
      " 5   1972     25 non-null     float64\n",
      " 6   1977     25 non-null     float64\n",
      " 7   1982     25 non-null     float64\n",
      " 8   1987     25 non-null     float64\n",
      " 9   1992     25 non-null     float64\n",
      " 10  1997     25 non-null     float64\n",
      " 11  2002     25 non-null     float64\n",
      " 12  2007     25 non-null     float64\n",
      "dtypes: float64(12), object(1)\n",
      "memory usage: 2.7+ KB\n"
     ]
    }
   ],
   "source": [
    "data_america.info()"
   ]
  },
  {
   "cell_type": "code",
   "execution_count": 65,
   "id": "01ea26e6-2ba6-4748-b7c0-176650ca440b",
   "metadata": {},
   "outputs": [
    {
     "data": {
      "text/plain": [
       "\u001b[0;31mSignature:\u001b[0m\n",
       "\u001b[0mdata_europe\u001b[0m\u001b[0;34m.\u001b[0m\u001b[0minfo\u001b[0m\u001b[0;34m(\u001b[0m\u001b[0;34m\u001b[0m\n",
       "\u001b[0;34m\u001b[0m    \u001b[0mverbose\u001b[0m\u001b[0;34m:\u001b[0m \u001b[0;34m'bool | None'\u001b[0m \u001b[0;34m=\u001b[0m \u001b[0;32mNone\u001b[0m\u001b[0;34m,\u001b[0m\u001b[0;34m\u001b[0m\n",
       "\u001b[0;34m\u001b[0m    \u001b[0mbuf\u001b[0m\u001b[0;34m:\u001b[0m \u001b[0;34m'WriteBuffer[str] | None'\u001b[0m \u001b[0;34m=\u001b[0m \u001b[0;32mNone\u001b[0m\u001b[0;34m,\u001b[0m\u001b[0;34m\u001b[0m\n",
       "\u001b[0;34m\u001b[0m    \u001b[0mmax_cols\u001b[0m\u001b[0;34m:\u001b[0m \u001b[0;34m'int | None'\u001b[0m \u001b[0;34m=\u001b[0m \u001b[0;32mNone\u001b[0m\u001b[0;34m,\u001b[0m\u001b[0;34m\u001b[0m\n",
       "\u001b[0;34m\u001b[0m    \u001b[0mmemory_usage\u001b[0m\u001b[0;34m:\u001b[0m \u001b[0;34m'bool | str | None'\u001b[0m \u001b[0;34m=\u001b[0m \u001b[0;32mNone\u001b[0m\u001b[0;34m,\u001b[0m\u001b[0;34m\u001b[0m\n",
       "\u001b[0;34m\u001b[0m    \u001b[0mshow_counts\u001b[0m\u001b[0;34m:\u001b[0m \u001b[0;34m'bool | None'\u001b[0m \u001b[0;34m=\u001b[0m \u001b[0;32mNone\u001b[0m\u001b[0;34m,\u001b[0m\u001b[0;34m\u001b[0m\n",
       "\u001b[0;34m\u001b[0m    \u001b[0mnull_counts\u001b[0m\u001b[0;34m:\u001b[0m \u001b[0;34m'bool | None'\u001b[0m \u001b[0;34m=\u001b[0m \u001b[0;32mNone\u001b[0m\u001b[0;34m,\u001b[0m\u001b[0;34m\u001b[0m\n",
       "\u001b[0;34m\u001b[0m\u001b[0;34m)\u001b[0m \u001b[0;34m->\u001b[0m \u001b[0;34m'None'\u001b[0m\u001b[0;34m\u001b[0m\u001b[0;34m\u001b[0m\u001b[0m\n",
       "\u001b[0;31mDocstring:\u001b[0m\n",
       "Print a concise summary of a DataFrame.\n",
       "\n",
       "This method prints information about a DataFrame including\n",
       "the index dtype and columns, non-null values and memory usage.\n",
       "\n",
       "Parameters\n",
       "----------\n",
       "verbose : bool, optional\n",
       "    Whether to print the full summary. By default, the setting in\n",
       "    ``pandas.options.display.max_info_columns`` is followed.\n",
       "buf : writable buffer, defaults to sys.stdout\n",
       "    Where to send the output. By default, the output is printed to\n",
       "    sys.stdout. Pass a writable buffer if you need to further process\n",
       "    the output.    max_cols : int, optional\n",
       "    When to switch from the verbose to the truncated output. If the\n",
       "    DataFrame has more than `max_cols` columns, the truncated output\n",
       "    is used. By default, the setting in\n",
       "    ``pandas.options.display.max_info_columns`` is used.\n",
       "memory_usage : bool, str, optional\n",
       "    Specifies whether total memory usage of the DataFrame\n",
       "    elements (including the index) should be displayed. By default,\n",
       "    this follows the ``pandas.options.display.memory_usage`` setting.\n",
       "\n",
       "    True always show memory usage. False never shows memory usage.\n",
       "    A value of 'deep' is equivalent to \"True with deep introspection\".\n",
       "    Memory usage is shown in human-readable units (base-2\n",
       "    representation). Without deep introspection a memory estimation is\n",
       "    made based in column dtype and number of rows assuming values\n",
       "    consume the same memory amount for corresponding dtypes. With deep\n",
       "    memory introspection, a real memory usage calculation is performed\n",
       "    at the cost of computational resources. See the\n",
       "    :ref:`Frequently Asked Questions <df-memory-usage>` for more\n",
       "    details.\n",
       "show_counts : bool, optional\n",
       "    Whether to show the non-null counts. By default, this is shown\n",
       "    only if the DataFrame is smaller than\n",
       "    ``pandas.options.display.max_info_rows`` and\n",
       "    ``pandas.options.display.max_info_columns``. A value of True always\n",
       "    shows the counts, and False never shows the counts.\n",
       "null_counts : bool, optional\n",
       "    .. deprecated:: 1.2.0\n",
       "        Use show_counts instead.\n",
       "\n",
       "Returns\n",
       "-------\n",
       "None\n",
       "    This method prints a summary of a DataFrame and returns None.\n",
       "\n",
       "See Also\n",
       "--------\n",
       "DataFrame.describe: Generate descriptive statistics of DataFrame\n",
       "    columns.\n",
       "DataFrame.memory_usage: Memory usage of DataFrame columns.\n",
       "\n",
       "Examples\n",
       "--------\n",
       ">>> int_values = [1, 2, 3, 4, 5]\n",
       ">>> text_values = ['alpha', 'beta', 'gamma', 'delta', 'epsilon']\n",
       ">>> float_values = [0.0, 0.25, 0.5, 0.75, 1.0]\n",
       ">>> df = pd.DataFrame({\"int_col\": int_values, \"text_col\": text_values,\n",
       "...                   \"float_col\": float_values})\n",
       ">>> df\n",
       "    int_col text_col  float_col\n",
       "0        1    alpha       0.00\n",
       "1        2     beta       0.25\n",
       "2        3    gamma       0.50\n",
       "3        4    delta       0.75\n",
       "4        5  epsilon       1.00\n",
       "\n",
       "Prints information of all columns:\n",
       "\n",
       ">>> df.info(verbose=True)\n",
       "<class 'pandas.core.frame.DataFrame'>\n",
       "RangeIndex: 5 entries, 0 to 4\n",
       "Data columns (total 3 columns):\n",
       " #   Column     Non-Null Count  Dtype\n",
       "---  ------     --------------  -----\n",
       " 0   int_col    5 non-null      int64\n",
       " 1   text_col   5 non-null      object\n",
       " 2   float_col  5 non-null      float64\n",
       "dtypes: float64(1), int64(1), object(1)\n",
       "memory usage: 248.0+ bytes\n",
       "\n",
       "Prints a summary of columns count and its dtypes but not per column\n",
       "information:\n",
       "\n",
       ">>> df.info(verbose=False)\n",
       "<class 'pandas.core.frame.DataFrame'>\n",
       "RangeIndex: 5 entries, 0 to 4\n",
       "Columns: 3 entries, int_col to float_col\n",
       "dtypes: float64(1), int64(1), object(1)\n",
       "memory usage: 248.0+ bytes\n",
       "\n",
       "Pipe output of DataFrame.info to buffer instead of sys.stdout, get\n",
       "buffer content and writes to a text file:\n",
       "\n",
       ">>> import io\n",
       ">>> buffer = io.StringIO()\n",
       ">>> df.info(buf=buffer)\n",
       ">>> s = buffer.getvalue()\n",
       ">>> with open(\"df_info.txt\", \"w\",\n",
       "...           encoding=\"utf-8\") as f:  # doctest: +SKIP\n",
       "...     f.write(s)\n",
       "260\n",
       "\n",
       "The `memory_usage` parameter allows deep introspection mode, specially\n",
       "useful for big DataFrames and fine-tune memory optimization:\n",
       "\n",
       ">>> random_strings_array = np.random.choice(['a', 'b', 'c'], 10 ** 6)\n",
       ">>> df = pd.DataFrame({\n",
       "...     'column_1': np.random.choice(['a', 'b', 'c'], 10 ** 6),\n",
       "...     'column_2': np.random.choice(['a', 'b', 'c'], 10 ** 6),\n",
       "...     'column_3': np.random.choice(['a', 'b', 'c'], 10 ** 6)\n",
       "... })\n",
       ">>> df.info()\n",
       "<class 'pandas.core.frame.DataFrame'>\n",
       "RangeIndex: 1000000 entries, 0 to 999999\n",
       "Data columns (total 3 columns):\n",
       " #   Column    Non-Null Count    Dtype\n",
       "---  ------    --------------    -----\n",
       " 0   column_1  1000000 non-null  object\n",
       " 1   column_2  1000000 non-null  object\n",
       " 2   column_3  1000000 non-null  object\n",
       "dtypes: object(3)\n",
       "memory usage: 22.9+ MB\n",
       "\n",
       ">>> df.info(memory_usage='deep')\n",
       "<class 'pandas.core.frame.DataFrame'>\n",
       "RangeIndex: 1000000 entries, 0 to 999999\n",
       "Data columns (total 3 columns):\n",
       " #   Column    Non-Null Count    Dtype\n",
       "---  ------    --------------    -----\n",
       " 0   column_1  1000000 non-null  object\n",
       " 1   column_2  1000000 non-null  object\n",
       " 2   column_3  1000000 non-null  object\n",
       "dtypes: object(3)\n",
       "memory usage: 165.9 MB\n",
       "\u001b[0;31mFile:\u001b[0m      ~/anaconda3/lib/python3.10/site-packages/pandas/core/frame.py\n",
       "\u001b[0;31mType:\u001b[0m      method"
      ]
     },
     "metadata": {},
     "output_type": "display_data"
    }
   ],
   "source": [
    "data_europe.info?"
   ]
  },
  {
   "cell_type": "code",
   "execution_count": 67,
   "id": "79302b83-80fa-490f-9d04-aaa0a709ab5d",
   "metadata": {},
   "outputs": [
    {
     "name": "stdout",
     "output_type": "stream",
     "text": [
      "Help on method head in module pandas.core.generic:\n",
      "\n",
      "head(n: 'int' = 5) -> 'NDFrameT' method of pandas.core.frame.DataFrame instance\n",
      "    Return the first `n` rows.\n",
      "    \n",
      "    This function returns the first `n` rows for the object based\n",
      "    on position. It is useful for quickly testing if your object\n",
      "    has the right type of data in it.\n",
      "    \n",
      "    For negative values of `n`, this function returns all rows except\n",
      "    the last `|n|` rows, equivalent to ``df[:n]``.\n",
      "    \n",
      "    If n is larger than the number of rows, this function returns all rows.\n",
      "    \n",
      "    Parameters\n",
      "    ----------\n",
      "    n : int, default 5\n",
      "        Number of rows to select.\n",
      "    \n",
      "    Returns\n",
      "    -------\n",
      "    same type as caller\n",
      "        The first `n` rows of the caller object.\n",
      "    \n",
      "    See Also\n",
      "    --------\n",
      "    DataFrame.tail: Returns the last `n` rows.\n",
      "    \n",
      "    Examples\n",
      "    --------\n",
      "    >>> df = pd.DataFrame({'animal': ['alligator', 'bee', 'falcon', 'lion',\n",
      "    ...                    'monkey', 'parrot', 'shark', 'whale', 'zebra']})\n",
      "    >>> df\n",
      "          animal\n",
      "    0  alligator\n",
      "    1        bee\n",
      "    2     falcon\n",
      "    3       lion\n",
      "    4     monkey\n",
      "    5     parrot\n",
      "    6      shark\n",
      "    7      whale\n",
      "    8      zebra\n",
      "    \n",
      "    Viewing the first 5 lines\n",
      "    \n",
      "    >>> df.head()\n",
      "          animal\n",
      "    0  alligator\n",
      "    1        bee\n",
      "    2     falcon\n",
      "    3       lion\n",
      "    4     monkey\n",
      "    \n",
      "    Viewing the first `n` lines (three in this case)\n",
      "    \n",
      "    >>> df.head(3)\n",
      "          animal\n",
      "    0  alligator\n",
      "    1        bee\n",
      "    2     falcon\n",
      "    \n",
      "    For negative values of `n`\n",
      "    \n",
      "    >>> df.head(-3)\n",
      "          animal\n",
      "    0  alligator\n",
      "    1        bee\n",
      "    2     falcon\n",
      "    3       lion\n",
      "    4     monkey\n",
      "    5     parrot\n",
      "\n"
     ]
    }
   ],
   "source": [
    "help(data_america.head)"
   ]
  },
  {
   "cell_type": "code",
   "execution_count": 68,
   "id": "f89f910a-0677-49a7-8081-0b0412b55f67",
   "metadata": {},
   "outputs": [
    {
     "name": "stdout",
     "output_type": "stream",
     "text": [
      "Help on method tail in module pandas.core.generic:\n",
      "\n",
      "tail(n: 'int' = 5) -> 'NDFrameT' method of pandas.core.frame.DataFrame instance\n",
      "    Return the last `n` rows.\n",
      "    \n",
      "    This function returns last `n` rows from the object based on\n",
      "    position. It is useful for quickly verifying data, for example,\n",
      "    after sorting or appending rows.\n",
      "    \n",
      "    For negative values of `n`, this function returns all rows except\n",
      "    the first `|n|` rows, equivalent to ``df[|n|:]``.\n",
      "    \n",
      "    If n is larger than the number of rows, this function returns all rows.\n",
      "    \n",
      "    Parameters\n",
      "    ----------\n",
      "    n : int, default 5\n",
      "        Number of rows to select.\n",
      "    \n",
      "    Returns\n",
      "    -------\n",
      "    type of caller\n",
      "        The last `n` rows of the caller object.\n",
      "    \n",
      "    See Also\n",
      "    --------\n",
      "    DataFrame.head : The first `n` rows of the caller object.\n",
      "    \n",
      "    Examples\n",
      "    --------\n",
      "    >>> df = pd.DataFrame({'animal': ['alligator', 'bee', 'falcon', 'lion',\n",
      "    ...                    'monkey', 'parrot', 'shark', 'whale', 'zebra']})\n",
      "    >>> df\n",
      "          animal\n",
      "    0  alligator\n",
      "    1        bee\n",
      "    2     falcon\n",
      "    3       lion\n",
      "    4     monkey\n",
      "    5     parrot\n",
      "    6      shark\n",
      "    7      whale\n",
      "    8      zebra\n",
      "    \n",
      "    Viewing the last 5 lines\n",
      "    \n",
      "    >>> df.tail()\n",
      "       animal\n",
      "    4  monkey\n",
      "    5  parrot\n",
      "    6   shark\n",
      "    7   whale\n",
      "    8   zebra\n",
      "    \n",
      "    Viewing the last `n` lines (three in this case)\n",
      "    \n",
      "    >>> df.tail(3)\n",
      "      animal\n",
      "    6  shark\n",
      "    7  whale\n",
      "    8  zebra\n",
      "    \n",
      "    For negative values of `n`\n",
      "    \n",
      "    >>> df.tail(-3)\n",
      "       animal\n",
      "    3    lion\n",
      "    4  monkey\n",
      "    5  parrot\n",
      "    6   shark\n",
      "    7   whale\n",
      "    8   zebra\n",
      "\n"
     ]
    }
   ],
   "source": [
    "help(data_america.tail)"
   ]
  },
  {
   "cell_type": "code",
   "execution_count": 69,
   "id": "9656dd2e-6365-4301-9967-91ac1634a2be",
   "metadata": {},
   "outputs": [
    {
     "name": "stdout",
     "output_type": "stream",
     "text": [
      "<bound method NDFrame.head of                 country          1952          1957          1962  \\\n",
      "0             Argentina   3758.523437   4245.256698   4957.037982   \n",
      "1               Bolivia   3112.363948  61729.977564  62612.716475   \n",
      "2                Brazil  52526.828538  52271.715538   2492.351109   \n",
      "3                Canada  80721.137366   2127.686326  72081.241665   \n",
      "4                 Chile   7689.799761   9802.466526   8422.974165   \n",
      "5              Colombia   2194.926204   2220.487682   2291.156835   \n",
      "6            Costa Rica   2480.380334   2961.800905  52557.508254   \n",
      "7                  Cuba   3478.125529  53439.098778   4581.609385   \n",
      "8    Dominican Republic   3522.110717   3780.546651   6766.936778   \n",
      "9               Ecuador  58463.737172   4315.622723   4519.094331   \n",
      "10          El Salvador  53800.299705   2487.365989   3336.585802   \n",
      "11            Guatemala  81010.076599  83776.637546   7133.166023   \n",
      "12                Haiti  13990.482080  14847.127120  16173.145860   \n",
      "13             Honduras   1397.717137   1544.402995   1662.137359   \n",
      "14              Jamaica   1952.308701   2046.154706  74736.768154   \n",
      "15               Mexico  90971.848359  12489.950060  13462.485550   \n",
      "16            Nicaragua   5586.538780  61831.146340   5180.755910   \n",
      "17               Panama   3023.271928   4100.393400   4997.523971   \n",
      "18             Paraguay   3081.959785  46346.460607   5108.344630   \n",
      "19                 Peru   1840.366939   1726.887882  59867.581838   \n",
      "20          Puerto Rico  11305.358687   2990.010802   3460.937025   \n",
      "21  Trinidad and Tobago   2898.530881  56729.351007   5246.107524   \n",
      "22        United States   2428.237769   2617.155967  68971.672032   \n",
      "23              Uruguay   5716.766744   6150.772969   5603.357717   \n",
      "24            Venezuela   3048.302900   3421.523218   3776.803627   \n",
      "\n",
      "            1967          1972          1977          1982          1987  \\\n",
      "0   77446.825850   5937.827283   6281.290855   6434.501797   6360.943444   \n",
      "1    4643.393534   4688.593267   5486.371089   3470.338156  48502.998326   \n",
      "2    2678.729839  59550.767795   3815.807870  44440.084992   7076.478233   \n",
      "3    2586.886053   2980.331339   3548.097832  56094.065164  43992.204121   \n",
      "4    9541.474188  10505.259660  13143.950950  11152.410110   9883.584648   \n",
      "5    2538.269358  57893.227021  56796.398209  59909.319485   3023.096699   \n",
      "6    4421.009084   5364.249663   5351.912144   7009.601598   7034.779161   \n",
      "7    5754.733883   6809.406690   7674.929108   9611.147541  49926.668634   \n",
      "8   63315.740215   5280.994710   6679.623260  60151.345979  55701.937230   \n",
      "9   60524.710025  53739.259655  49291.950011   5095.665738   5547.063754   \n",
      "10  68574.166648   4985.711467   6660.118654   7030.835878  49045.608449   \n",
      "11   8052.953021   9443.038526  59485.248903   8997.897412   9139.671389   \n",
      "12  19530.365570  21806.035940  24072.632130  25009.559140  29884.350410   \n",
      "13   1653.723003   2189.874499   2681.988900   2861.092386   2899.842175   \n",
      "14   2299.376311  57886.722653  44313.285239   4258.503604   3998.875695   \n",
      "15  16076.588030  62829.875603  22090.883060  22898.792140  26626.515030   \n",
      "16   5690.268015   5305.445256   6380.494966  54476.998899   7532.924763   \n",
      "17  56085.264613   6619.551419  51214.598297   9119.528607  47020.415157   \n",
      "18   6929.277714   9123.041742   9770.524921  72797.303710  12281.341910   \n",
      "19   1452.057666   1654.456946  41624.380102   2011.159549   1823.015995   \n",
      "20   4161.727834   5118.146939   5926.876967   5262.734751   5629.915318   \n",
      "21   6124.703451  61039.706202  51185.381748   6068.051350   6351.237495   \n",
      "22  60114.541083   4031.408271   4879.992748   4820.494790   4246.485974   \n",
      "23   5444.619620   5703.408898   6504.339663   6920.223051  52329.603891   \n",
      "24   4358.595393  29513.658556   5138.922374   4098.344175   4140.442097   \n",
      "\n",
      "            1992          1997          2002          2007  \n",
      "0    4446.380924   5838.347657  53731.890130  38648.379084  \n",
      "1    2170.151724   2253.023004   2474.548819   2749.320965  \n",
      "2    5444.648617   6117.361746  45726.614039   7006.580419  \n",
      "3   44472.344119  47416.219133   3413.262690   3822.137084  \n",
      "4   10733.926310  10165.495180   8605.047831  51580.843077  \n",
      "5    3081.694603   3160.454906   3099.728660   3548.330846  \n",
      "6    6618.743050  44149.356043   7356.031934   9809.185636  \n",
      "7   22717.392095  29732.575803  10742.440530  11977.574960  \n",
      "8    7103.702595   7429.455877   5773.044512  36757.420700  \n",
      "9    7596.125964  10118.053180  10778.783850  13171.638850  \n",
      "10   6950.283021   7957.980824   8131.212843   9065.800825  \n",
      "11   9308.418710  10967.281950   8797.640716  12779.379640  \n",
      "12  32003.932240  35767.433030  39097.099550  42951.653090  \n",
      "13   3044.214214  40649.765076   4563.808154   6025.374752  \n",
      "14  45138.416539   4247.400261  40469.711547   4172.838464  \n",
      "15  26342.884260  72356.094396  50351.280073  36319.235010  \n",
      "16   5592.843963   5431.990415   6340.646683  52202.758570  \n",
      "17  47221.209580   8792.573126  11460.600230  54286.607525  \n",
      "18  62847.496765  16999.433300  18855.606180  19328.709010  \n",
      "19  56803.835417  52780.148864  38989.811737   1201.637154  \n",
      "20  65935.744289  51478.251513   7723.447195  53747.847570  \n",
      "21   7404.923685   7121.924704   6994.774861   7320.880262  \n",
      "22   4439.450840   4684.313807  48053.197869   5186.050003  \n",
      "23   8137.004775   9230.240708   7727.002004  10611.462990  \n",
      "24   4444.231700   5154.825496  50742.767364   5728.353514  >\n"
     ]
    }
   ],
   "source": [
    "print(data_america.head)"
   ]
  },
  {
   "cell_type": "code",
   "execution_count": 70,
   "id": "3f5c9a56-e764-4d7d-b158-e1a3d8fcfdd5",
   "metadata": {},
   "outputs": [
    {
     "data": {
      "text/html": [
       "<div>\n",
       "<style scoped>\n",
       "    .dataframe tbody tr th:only-of-type {\n",
       "        vertical-align: middle;\n",
       "    }\n",
       "\n",
       "    .dataframe tbody tr th {\n",
       "        vertical-align: top;\n",
       "    }\n",
       "\n",
       "    .dataframe thead th {\n",
       "        text-align: right;\n",
       "    }\n",
       "</style>\n",
       "<table border=\"1\" class=\"dataframe\">\n",
       "  <thead>\n",
       "    <tr style=\"text-align: right;\">\n",
       "      <th></th>\n",
       "      <th>country</th>\n",
       "      <th>1952</th>\n",
       "      <th>1957</th>\n",
       "      <th>1962</th>\n",
       "      <th>1967</th>\n",
       "      <th>1972</th>\n",
       "      <th>1977</th>\n",
       "      <th>1982</th>\n",
       "      <th>1987</th>\n",
       "      <th>1992</th>\n",
       "      <th>1997</th>\n",
       "      <th>2002</th>\n",
       "      <th>2007</th>\n",
       "    </tr>\n",
       "  </thead>\n",
       "  <tbody>\n",
       "    <tr>\n",
       "      <th>22</th>\n",
       "      <td>United States</td>\n",
       "      <td>2428.237769</td>\n",
       "      <td>2617.155967</td>\n",
       "      <td>68971.672032</td>\n",
       "      <td>60114.541083</td>\n",
       "      <td>4031.408271</td>\n",
       "      <td>4879.992748</td>\n",
       "      <td>4820.494790</td>\n",
       "      <td>4246.485974</td>\n",
       "      <td>4439.450840</td>\n",
       "      <td>4684.313807</td>\n",
       "      <td>48053.197869</td>\n",
       "      <td>5186.050003</td>\n",
       "    </tr>\n",
       "    <tr>\n",
       "      <th>23</th>\n",
       "      <td>Uruguay</td>\n",
       "      <td>5716.766744</td>\n",
       "      <td>6150.772969</td>\n",
       "      <td>5603.357717</td>\n",
       "      <td>5444.619620</td>\n",
       "      <td>5703.408898</td>\n",
       "      <td>6504.339663</td>\n",
       "      <td>6920.223051</td>\n",
       "      <td>52329.603891</td>\n",
       "      <td>8137.004775</td>\n",
       "      <td>9230.240708</td>\n",
       "      <td>7727.002004</td>\n",
       "      <td>10611.462990</td>\n",
       "    </tr>\n",
       "    <tr>\n",
       "      <th>24</th>\n",
       "      <td>Venezuela</td>\n",
       "      <td>3048.302900</td>\n",
       "      <td>3421.523218</td>\n",
       "      <td>3776.803627</td>\n",
       "      <td>4358.595393</td>\n",
       "      <td>29513.658556</td>\n",
       "      <td>5138.922374</td>\n",
       "      <td>4098.344175</td>\n",
       "      <td>4140.442097</td>\n",
       "      <td>4444.231700</td>\n",
       "      <td>5154.825496</td>\n",
       "      <td>50742.767364</td>\n",
       "      <td>5728.353514</td>\n",
       "    </tr>\n",
       "  </tbody>\n",
       "</table>\n",
       "</div>"
      ],
      "text/plain": [
       "          country         1952         1957          1962          1967  \\\n",
       "22  United States  2428.237769  2617.155967  68971.672032  60114.541083   \n",
       "23        Uruguay  5716.766744  6150.772969   5603.357717   5444.619620   \n",
       "24      Venezuela  3048.302900  3421.523218   3776.803627   4358.595393   \n",
       "\n",
       "            1972         1977         1982          1987         1992  \\\n",
       "22   4031.408271  4879.992748  4820.494790   4246.485974  4439.450840   \n",
       "23   5703.408898  6504.339663  6920.223051  52329.603891  8137.004775   \n",
       "24  29513.658556  5138.922374  4098.344175   4140.442097  4444.231700   \n",
       "\n",
       "           1997          2002          2007  \n",
       "22  4684.313807  48053.197869   5186.050003  \n",
       "23  9230.240708   7727.002004  10611.462990  \n",
       "24  5154.825496  50742.767364   5728.353514  "
      ]
     },
     "execution_count": 70,
     "metadata": {},
     "output_type": "execute_result"
    }
   ],
   "source": [
    "data_america.tail(3)"
   ]
  },
  {
   "cell_type": "code",
   "execution_count": 71,
   "id": "1d756b24-a92f-4f7f-908f-3d6cf931709a",
   "metadata": {},
   "outputs": [
    {
     "data": {
      "text/html": [
       "<div>\n",
       "<style scoped>\n",
       "    .dataframe tbody tr th:only-of-type {\n",
       "        vertical-align: middle;\n",
       "    }\n",
       "\n",
       "    .dataframe tbody tr th {\n",
       "        vertical-align: top;\n",
       "    }\n",
       "\n",
       "    .dataframe thead th {\n",
       "        text-align: right;\n",
       "    }\n",
       "</style>\n",
       "<table border=\"1\" class=\"dataframe\">\n",
       "  <thead>\n",
       "    <tr style=\"text-align: right;\">\n",
       "      <th></th>\n",
       "      <th>country</th>\n",
       "      <th>1952</th>\n",
       "      <th>1957</th>\n",
       "      <th>1962</th>\n",
       "      <th>1967</th>\n",
       "      <th>1972</th>\n",
       "      <th>1977</th>\n",
       "      <th>1982</th>\n",
       "      <th>1987</th>\n",
       "      <th>1992</th>\n",
       "      <th>1997</th>\n",
       "      <th>2002</th>\n",
       "      <th>2007</th>\n",
       "    </tr>\n",
       "  </thead>\n",
       "  <tbody>\n",
       "    <tr>\n",
       "      <th>0</th>\n",
       "      <td>Argentina</td>\n",
       "      <td>3758.523437</td>\n",
       "      <td>4245.256698</td>\n",
       "      <td>4957.037982</td>\n",
       "      <td>77446.825850</td>\n",
       "      <td>5937.827283</td>\n",
       "      <td>6281.290855</td>\n",
       "      <td>6434.501797</td>\n",
       "      <td>6360.943444</td>\n",
       "      <td>4446.380924</td>\n",
       "      <td>5838.347657</td>\n",
       "      <td>53731.890130</td>\n",
       "      <td>38648.379084</td>\n",
       "    </tr>\n",
       "    <tr>\n",
       "      <th>1</th>\n",
       "      <td>Bolivia</td>\n",
       "      <td>3112.363948</td>\n",
       "      <td>61729.977564</td>\n",
       "      <td>62612.716475</td>\n",
       "      <td>4643.393534</td>\n",
       "      <td>4688.593267</td>\n",
       "      <td>5486.371089</td>\n",
       "      <td>3470.338156</td>\n",
       "      <td>48502.998326</td>\n",
       "      <td>2170.151724</td>\n",
       "      <td>2253.023004</td>\n",
       "      <td>2474.548819</td>\n",
       "      <td>2749.320965</td>\n",
       "    </tr>\n",
       "    <tr>\n",
       "      <th>2</th>\n",
       "      <td>Brazil</td>\n",
       "      <td>52526.828538</td>\n",
       "      <td>52271.715538</td>\n",
       "      <td>2492.351109</td>\n",
       "      <td>2678.729839</td>\n",
       "      <td>59550.767795</td>\n",
       "      <td>3815.807870</td>\n",
       "      <td>44440.084992</td>\n",
       "      <td>7076.478233</td>\n",
       "      <td>5444.648617</td>\n",
       "      <td>6117.361746</td>\n",
       "      <td>45726.614039</td>\n",
       "      <td>7006.580419</td>\n",
       "    </tr>\n",
       "  </tbody>\n",
       "</table>\n",
       "</div>"
      ],
      "text/plain": [
       "     country          1952          1957          1962          1967  \\\n",
       "0  Argentina   3758.523437   4245.256698   4957.037982  77446.825850   \n",
       "1    Bolivia   3112.363948  61729.977564  62612.716475   4643.393534   \n",
       "2     Brazil  52526.828538  52271.715538   2492.351109   2678.729839   \n",
       "\n",
       "           1972         1977          1982          1987         1992  \\\n",
       "0   5937.827283  6281.290855   6434.501797   6360.943444  4446.380924   \n",
       "1   4688.593267  5486.371089   3470.338156  48502.998326  2170.151724   \n",
       "2  59550.767795  3815.807870  44440.084992   7076.478233  5444.648617   \n",
       "\n",
       "          1997          2002          2007  \n",
       "0  5838.347657  53731.890130  38648.379084  \n",
       "1  2253.023004   2474.548819   2749.320965  \n",
       "2  6117.361746  45726.614039   7006.580419  "
      ]
     },
     "execution_count": 71,
     "metadata": {},
     "output_type": "execute_result"
    }
   ],
   "source": [
    "data_america.head(3)"
   ]
  },
  {
   "cell_type": "code",
   "execution_count": 72,
   "id": "98a8fb9a-76a7-419e-89e6-cf35554cc017",
   "metadata": {},
   "outputs": [
    {
     "data": {
      "text/html": [
       "<div>\n",
       "<style scoped>\n",
       "    .dataframe tbody tr th:only-of-type {\n",
       "        vertical-align: middle;\n",
       "    }\n",
       "\n",
       "    .dataframe tbody tr th {\n",
       "        vertical-align: top;\n",
       "    }\n",
       "\n",
       "    .dataframe thead th {\n",
       "        text-align: right;\n",
       "    }\n",
       "</style>\n",
       "<table border=\"1\" class=\"dataframe\">\n",
       "  <thead>\n",
       "    <tr style=\"text-align: right;\">\n",
       "      <th></th>\n",
       "      <th>22</th>\n",
       "      <th>23</th>\n",
       "      <th>24</th>\n",
       "    </tr>\n",
       "  </thead>\n",
       "  <tbody>\n",
       "    <tr>\n",
       "      <th>country</th>\n",
       "      <td>United States</td>\n",
       "      <td>Uruguay</td>\n",
       "      <td>Venezuela</td>\n",
       "    </tr>\n",
       "    <tr>\n",
       "      <th>1952</th>\n",
       "      <td>2428.237769</td>\n",
       "      <td>5716.766744</td>\n",
       "      <td>3048.3029</td>\n",
       "    </tr>\n",
       "    <tr>\n",
       "      <th>1957</th>\n",
       "      <td>2617.155967</td>\n",
       "      <td>6150.772969</td>\n",
       "      <td>3421.523218</td>\n",
       "    </tr>\n",
       "    <tr>\n",
       "      <th>1962</th>\n",
       "      <td>68971.672032</td>\n",
       "      <td>5603.357717</td>\n",
       "      <td>3776.803627</td>\n",
       "    </tr>\n",
       "    <tr>\n",
       "      <th>1967</th>\n",
       "      <td>60114.541083</td>\n",
       "      <td>5444.61962</td>\n",
       "      <td>4358.595393</td>\n",
       "    </tr>\n",
       "    <tr>\n",
       "      <th>1972</th>\n",
       "      <td>4031.408271</td>\n",
       "      <td>5703.408898</td>\n",
       "      <td>29513.658556</td>\n",
       "    </tr>\n",
       "    <tr>\n",
       "      <th>1977</th>\n",
       "      <td>4879.992748</td>\n",
       "      <td>6504.339663</td>\n",
       "      <td>5138.922374</td>\n",
       "    </tr>\n",
       "    <tr>\n",
       "      <th>1982</th>\n",
       "      <td>4820.49479</td>\n",
       "      <td>6920.223051</td>\n",
       "      <td>4098.344175</td>\n",
       "    </tr>\n",
       "    <tr>\n",
       "      <th>1987</th>\n",
       "      <td>4246.485974</td>\n",
       "      <td>52329.603891</td>\n",
       "      <td>4140.442097</td>\n",
       "    </tr>\n",
       "    <tr>\n",
       "      <th>1992</th>\n",
       "      <td>4439.45084</td>\n",
       "      <td>8137.004775</td>\n",
       "      <td>4444.2317</td>\n",
       "    </tr>\n",
       "    <tr>\n",
       "      <th>1997</th>\n",
       "      <td>4684.313807</td>\n",
       "      <td>9230.240708</td>\n",
       "      <td>5154.825496</td>\n",
       "    </tr>\n",
       "    <tr>\n",
       "      <th>2002</th>\n",
       "      <td>48053.197869</td>\n",
       "      <td>7727.002004</td>\n",
       "      <td>50742.767364</td>\n",
       "    </tr>\n",
       "    <tr>\n",
       "      <th>2007</th>\n",
       "      <td>5186.050003</td>\n",
       "      <td>10611.46299</td>\n",
       "      <td>5728.353514</td>\n",
       "    </tr>\n",
       "  </tbody>\n",
       "</table>\n",
       "</div>"
      ],
      "text/plain": [
       "                    22            23            24\n",
       "country  United States       Uruguay     Venezuela\n",
       "1952       2428.237769   5716.766744     3048.3029\n",
       "1957       2617.155967   6150.772969   3421.523218\n",
       "1962      68971.672032   5603.357717   3776.803627\n",
       "1967      60114.541083    5444.61962   4358.595393\n",
       "1972       4031.408271   5703.408898  29513.658556\n",
       "1977       4879.992748   6504.339663   5138.922374\n",
       "1982        4820.49479   6920.223051   4098.344175\n",
       "1987       4246.485974  52329.603891   4140.442097\n",
       "1992        4439.45084   8137.004775     4444.2317\n",
       "1997       4684.313807   9230.240708   5154.825496\n",
       "2002      48053.197869   7727.002004  50742.767364\n",
       "2007       5186.050003   10611.46299   5728.353514"
      ]
     },
     "execution_count": 72,
     "metadata": {},
     "output_type": "execute_result"
    }
   ],
   "source": [
    "data_america.tail(3).T"
   ]
  },
  {
   "cell_type": "code",
   "execution_count": 74,
   "id": "2d20d393-d475-4096-b08d-4279c38e202e",
   "metadata": {},
   "outputs": [
    {
     "data": {
      "text/plain": [
       "'ent'"
      ]
     },
     "execution_count": 74,
     "metadata": {},
     "output_type": "execute_result"
    }
   ],
   "source": [
    "'element'[-3:]"
   ]
  },
  {
   "cell_type": "code",
   "execution_count": null,
   "id": "46e09077-a4a6-46d7-86a7-a3dff9111c82",
   "metadata": {},
   "outputs": [],
   "source": []
  }
 ],
 "metadata": {
  "kernelspec": {
   "display_name": "Python 3 (ipykernel)",
   "language": "python",
   "name": "python3"
  },
  "language_info": {
   "codemirror_mode": {
    "name": "ipython",
    "version": 3
   },
   "file_extension": ".py",
   "mimetype": "text/x-python",
   "name": "python",
   "nbconvert_exporter": "python",
   "pygments_lexer": "ipython3",
   "version": "3.10.9"
  }
 },
 "nbformat": 4,
 "nbformat_minor": 5
}
